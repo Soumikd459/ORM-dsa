{
 "cells": [
  {
   "cell_type": "markdown",
   "id": "62c5321c",
   "metadata": {},
   "source": [
    "# 1) Reverse"
   ]
  },
  {
   "cell_type": "code",
   "execution_count": 11,
   "id": "a131e24a",
   "metadata": {},
   "outputs": [
    {
     "data": {
      "text/plain": [
       "'kimuos'"
      ]
     },
     "execution_count": 11,
     "metadata": {},
     "output_type": "execute_result"
    }
   ],
   "source": [
    "def reverse (str):\n",
    "    l = ''\n",
    "    for i in range(len(str)-1,-1,-1):\n",
    "        l+=str[i]\n",
    "    return (l)\n",
    "reverse('soumik')    \n",
    "    "
   ]
  },
  {
   "cell_type": "markdown",
   "id": "b57a2378",
   "metadata": {},
   "source": [
    "# 2) Palindrome"
   ]
  },
  {
   "cell_type": "code",
   "execution_count": 1,
   "id": "e008e5f4",
   "metadata": {},
   "outputs": [
    {
     "data": {
      "text/plain": [
       "'palindrome'"
      ]
     },
     "execution_count": 1,
     "metadata": {},
     "output_type": "execute_result"
    }
   ],
   "source": [
    "def palindrome(str):\n",
    "    l = ''\n",
    "    for i in range(len(str)-1,-1,-1):\n",
    "        l +=str[i]\n",
    "    if str ==l:\n",
    "        return('palindrome')\n",
    "    else:\n",
    "        return('not palindrome')\n",
    "palindrome('madam')"
   ]
  },
  {
   "cell_type": "markdown",
   "id": "eed69527",
   "metadata": {},
   "source": [
    "# 3) Find largest"
   ]
  },
  {
   "cell_type": "code",
   "execution_count": 1,
   "id": "97025d27",
   "metadata": {},
   "outputs": [
    {
     "data": {
      "text/plain": [
       "109"
      ]
     },
     "execution_count": 1,
     "metadata": {},
     "output_type": "execute_result"
    }
   ],
   "source": [
    "def sec_largest(num):\n",
    "    largest = float('-inf')\n",
    "    sec_lar = float('-inf')\n",
    "    for i in num:\n",
    "        if i > largest:\n",
    "            largest = i\n",
    "            sec_lar = largest\n",
    "        else:\n",
    "            i > sec_lar \n",
    "\n",
    "largest([2,3,4,5,45,65,1,56,78,98,109])"
   ]
  },
  {
   "cell_type": "code",
   "execution_count": 3,
   "id": "0989acb1",
   "metadata": {},
   "outputs": [
    {
     "data": {
      "text/plain": [
       "98"
      ]
     },
     "execution_count": 3,
     "metadata": {},
     "output_type": "execute_result"
    }
   ],
   "source": [
    "def largest(num):\n",
    "    lar = float('-inf')\n",
    "    for i in num:\n",
    "        if i > lar:\n",
    "            lar = i\n",
    "    return lar\n",
    "largest ([2,3,4,5,45,65,1,56,78,98])"
   ]
  },
  {
   "cell_type": "markdown",
   "id": "3889aa81",
   "metadata": {},
   "source": [
    "# 2nd largest"
   ]
  },
  {
   "cell_type": "code",
   "execution_count": 10,
   "id": "6398e4c2",
   "metadata": {},
   "outputs": [
    {
     "data": {
      "text/plain": [
       "11"
      ]
     },
     "execution_count": 10,
     "metadata": {},
     "output_type": "execute_result"
    }
   ],
   "source": [
    "def second_largest(num):\n",
    "    largest = float('-inf')\n",
    "    sec_largest = float('-inf')\n",
    "    for i in num:\n",
    "        if i > largest:\n",
    "            sec_largest = largest\n",
    "            largest = i\n",
    "        elif i > sec_largest and i != largest:\n",
    "            sec_largest = i\n",
    "        \n",
    "    return sec_largest\n",
    "      \n",
    "second_largest([2,3,1,7,12,9,4,8,10,11])"
   ]
  },
  {
   "cell_type": "markdown",
   "id": "da0b21fd",
   "metadata": {},
   "source": [
    "# 4) Occurence"
   ]
  },
  {
   "cell_type": "code",
   "execution_count": 3,
   "id": "8955ce2f",
   "metadata": {},
   "outputs": [
    {
     "data": {
      "text/plain": [
       "{2: 2, 3: 2, 4: 1, 5: 2, 6: 3, 78: 1, 9: 1, 7: 1}"
      ]
     },
     "execution_count": 3,
     "metadata": {},
     "output_type": "execute_result"
    }
   ],
   "source": [
    "def occurence(num):\n",
    "    d = {}\n",
    "    for i in num:\n",
    "        if i in d:\n",
    "            d[i] += 1\n",
    "        else:\n",
    "            d[i] = 1\n",
    "    return d\n",
    "occurence([2,3,2,3,4,5,6,5,6,78,9,7,6])"
   ]
  },
  {
   "cell_type": "code",
   "execution_count": 5,
   "id": "1e3a5b26",
   "metadata": {},
   "outputs": [
    {
     "ename": "AttributeError",
     "evalue": "'set' object has no attribute 'append'",
     "output_type": "error",
     "traceback": [
      "\u001b[1;31m---------------------------------------------------------------------------\u001b[0m",
      "\u001b[1;31mAttributeError\u001b[0m                            Traceback (most recent call last)",
      "Cell \u001b[1;32mIn[5], line 10\u001b[0m\n\u001b[0;32m      8\u001b[0m             unique\u001b[38;5;241m.\u001b[39mappend(i)\n\u001b[0;32m      9\u001b[0m     \u001b[38;5;28;01mreturn\u001b[39;00m \u001b[38;5;28mlist\u001b[39m(dup)\n\u001b[1;32m---> 10\u001b[0m duplicate([\u001b[38;5;241m2\u001b[39m, \u001b[38;5;241m3\u001b[39m, \u001b[38;5;241m2\u001b[39m, \u001b[38;5;241m4\u001b[39m, \u001b[38;5;241m5\u001b[39m, \u001b[38;5;241m5\u001b[39m, \u001b[38;5;241m3\u001b[39m, \u001b[38;5;241m6\u001b[39m, \u001b[38;5;241m7\u001b[39m, \u001b[38;5;241m6\u001b[39m, \u001b[38;5;241m8\u001b[39m, \u001b[38;5;241m9\u001b[39m])\n\u001b[0;32m     11\u001b[0m \u001b[38;5;28mprint\u001b[39m(dup)\n",
      "Cell \u001b[1;32mIn[5], line 8\u001b[0m, in \u001b[0;36mduplicate\u001b[1;34m(num)\u001b[0m\n\u001b[0;32m      6\u001b[0m         dup\u001b[38;5;241m.\u001b[39mappend(i)\n\u001b[0;32m      7\u001b[0m     \u001b[38;5;28;01melse\u001b[39;00m:\n\u001b[1;32m----> 8\u001b[0m         unique\u001b[38;5;241m.\u001b[39mappend(i)\n\u001b[0;32m      9\u001b[0m \u001b[38;5;28;01mreturn\u001b[39;00m \u001b[38;5;28mlist\u001b[39m(dup)\n",
      "\u001b[1;31mAttributeError\u001b[0m: 'set' object has no attribute 'append'"
     ]
    }
   ],
   "source": [
    "\n",
    "def duplicate(num):\n",
    "    unique = set()\n",
    "    dup =set()\n",
    "    for i in num:\n",
    "        if i in unique:\n",
    "            dup.append(i)\n",
    "        else:\n",
    "            unique.append(i)\n",
    "    return list(dup)\n",
    "duplicate([2, 3, 2, 4, 5, 5, 3, 6, 7, 6, 8, 9])\n",
    "print(dup)\n",
    "            "
   ]
  },
  {
   "cell_type": "markdown",
   "id": "9ff085d0",
   "metadata": {},
   "source": [
    "# 6) Duplicate"
   ]
  },
  {
   "cell_type": "code",
   "execution_count": 1,
   "id": "7b654072",
   "metadata": {},
   "outputs": [
    {
     "name": "stdout",
     "output_type": "stream",
     "text": [
      "[2, 3, 5, 6]\n"
     ]
    }
   ],
   "source": [
    "def duplicate(nums):\n",
    "    seen = set()\n",
    "    duplicates = set()\n",
    "    \n",
    "    for num in nums:\n",
    "        if num in seen:\n",
    "            duplicates.add(num)\n",
    "        else:\n",
    "            seen.add(num)\n",
    "    \n",
    "    return list(duplicates)\n",
    "\n",
    "result = duplicate([2, 3, 2, 4, 5, 5, 3, 6, 7, 6, 8, 9])\n",
    "print(result)\n"
   ]
  },
  {
   "cell_type": "markdown",
   "id": "5263ebcf",
   "metadata": {},
   "source": [
    "# Prime check"
   ]
  },
  {
   "cell_type": "code",
   "execution_count": 6,
   "id": "4df0ba86",
   "metadata": {},
   "outputs": [
    {
     "data": {
      "text/plain": [
       "True"
      ]
     },
     "execution_count": 6,
     "metadata": {},
     "output_type": "execute_result"
    }
   ],
   "source": [
    "def is_prime(n):\n",
    "    if n<=1:\n",
    "        return 'not applicable'\n",
    "    for i in range(2,int(n**0.5)+1):\n",
    "        if n % i == 0:\n",
    "            return False\n",
    "    else:\n",
    "        return True\n",
    "is_prime(19)"
   ]
  },
  {
   "cell_type": "markdown",
   "id": "fa0a470f",
   "metadata": {},
   "source": [
    "# 4) Anagram"
   ]
  },
  {
   "cell_type": "code",
   "execution_count": 10,
   "id": "2f8e3363",
   "metadata": {},
   "outputs": [
    {
     "data": {
      "text/plain": [
       "'try again'"
      ]
     },
     "execution_count": 10,
     "metadata": {},
     "output_type": "execute_result"
    }
   ],
   "source": [
    "def anagram(str1,str2):\n",
    "    if len(str1) != len(str2):\n",
    "        return ('not anagram')\n",
    "    elif sorted (str1.lower()) == sorted(str2.lower()):\n",
    "        return ('anagram')\n",
    "    else:\n",
    "        return('try again')\n",
    "anagram ('listen','lsieny')\n",
    "    "
   ]
  },
  {
   "cell_type": "markdown",
   "id": "2d6db67d",
   "metadata": {},
   "source": [
    "# 5) Factorial"
   ]
  },
  {
   "cell_type": "code",
   "execution_count": 15,
   "id": "491d3731",
   "metadata": {},
   "outputs": [
    {
     "data": {
      "text/plain": [
       "'try ageain'"
      ]
     },
     "execution_count": 15,
     "metadata": {},
     "output_type": "execute_result"
    }
   ],
   "source": [
    "def factorial(n):\n",
    "    if type(n) != int or n<0 :  # int Integers are whole numbers that can be positive, negative, or zero.\n",
    "        return ('try again')\n",
    "    elif n==0 or n==1 :\n",
    "        return n\n",
    "    else:\n",
    "        fact = n * factorial (n-1)\n",
    "    return (fact)\n",
    "factorial(8.9)\n",
    "factorial(4)\n",
    "factorial(-9)"
   ]
  },
  {
   "cell_type": "code",
   "execution_count": 15,
   "id": "7c7b5e35",
   "metadata": {},
   "outputs": [
    {
     "data": {
      "text/plain": [
       "720"
      ]
     },
     "execution_count": 15,
     "metadata": {},
     "output_type": "execute_result"
    }
   ],
   "source": [
    "def factorial(n):\n",
    "    if n==1:\n",
    "        return n\n",
    "    else:\n",
    "        fact = n *  factorial(n-1)\n",
    "    return (fact)\n",
    "factorial (6)"
   ]
  },
  {
   "cell_type": "markdown",
   "id": "b4be0d4f",
   "metadata": {},
   "source": [
    "# 6) Rverse the order of words in a given sentence."
   ]
  },
  {
   "cell_type": "code",
   "execution_count": 16,
   "id": "ba436ccd",
   "metadata": {},
   "outputs": [
    {
     "data": {
      "text/plain": [
       "'Developer Python excellent an is soumik'"
      ]
     },
     "execution_count": 16,
     "metadata": {},
     "output_type": "execute_result"
    }
   ],
   "source": [
    "def reverse_sentence(sentence):\n",
    "    words = sentence.split()   # kar upr base kore split hbe , seta split('') r por hbe,\n",
    "    reversed_words = words[::-1]\n",
    "    reversed_sentence =' '.join(reversed_words) # kar upr base kore join hbe , seta ('').join r age hbe\n",
    "    return reversed_sentence\n",
    "reverse_sentence('soumik is an excellent Python Developer')\n",
    "\n",
    "\n",
    "     "
   ]
  },
  {
   "cell_type": "markdown",
   "id": "8ea4520c",
   "metadata": {},
   "source": [
    "# 7) Remove vowel"
   ]
  },
  {
   "cell_type": "code",
   "execution_count": 10,
   "id": "f1131a7e",
   "metadata": {},
   "outputs": [
    {
     "name": "stdout",
     "output_type": "stream",
     "text": [
      "hsjyt\n"
     ]
    }
   ],
   "source": [
    "def remove_vowel(string):\n",
    "    vowels = {'a', 'e', 'i', 'o', 'u'} #The characters in the set ('a', 'e', 'i', 'o', 'u') are lowercase,set handle both uppercase and lowercase vowels uniformly.\n",
    "    result = ''                         # set allows for case-insensitive  \n",
    "    for char in string:                 # set() rhis notation is used when convert a iterable to a set.\n",
    "        if char not in vowels:\n",
    "            result += char\n",
    "    return result\n",
    "\n",
    "# Example usage\n",
    "print(remove_vowel('ahsjeiyt')) \n"
   ]
  },
  {
   "cell_type": "markdown",
   "id": "aedaf3ae",
   "metadata": {},
   "source": [
    "# 11) Common list"
   ]
  },
  {
   "cell_type": "code",
   "execution_count": 2,
   "id": "dc506a56",
   "metadata": {},
   "outputs": [
    {
     "data": {
      "text/plain": [
       "[1, 3, 5, 7]"
      ]
     },
     "execution_count": 2,
     "metadata": {},
     "output_type": "execute_result"
    }
   ],
   "source": [
    "def common_list(list1,list2):\n",
    "    common = []\n",
    "    for i in list1:\n",
    "        if i in list2:\n",
    "            common.append(i)\n",
    "    return (common)\n",
    "list1 = [1,3,4,5,7]\n",
    "list2 = [3,1,2,6,5,7]\n",
    "common_list(list1,list2)"
   ]
  },
  {
   "cell_type": "markdown",
   "id": "d0f6e117",
   "metadata": {},
   "source": [
    "# 12) Anagram"
   ]
  },
  {
   "cell_type": "code",
   "execution_count": 7,
   "id": "26d3e65e",
   "metadata": {},
   "outputs": [
    {
     "data": {
      "text/plain": [
       "'anagram'"
      ]
     },
     "execution_count": 7,
     "metadata": {},
     "output_type": "execute_result"
    }
   ],
   "source": [
    "def anagram(str1,str2):\n",
    "    if len(str1) != len(str2) :\n",
    "        return ('not anagram')\n",
    "    else:\n",
    "        sorted(str1.lower()) == sorted(str2.lower())\n",
    "        return ('anagram')\n",
    "    \n",
    "str1 = 'listEn'    \n",
    "str2 = 'siLten'\n",
    "anagram (str1,str2)\n",
    "    "
   ]
  },
  {
   "cell_type": "markdown",
   "id": "a28fbab9",
   "metadata": {},
   "source": [
    "# 14) Fibonacci sequence"
   ]
  },
  {
   "cell_type": "code",
   "execution_count": 3,
   "id": "2c0bda63",
   "metadata": {},
   "outputs": [
    {
     "data": {
      "text/plain": [
       "[0, 1, 1, 2, 3, 5, 8, 13, 21, 34]"
      ]
     },
     "execution_count": 3,
     "metadata": {},
     "output_type": "execute_result"
    }
   ],
   "source": [
    "def fibo_series(n):\n",
    "    series =[0,1]\n",
    "    for i in range (2,n):\n",
    "        next_term = series[-1] + series [-2]\n",
    "        series.append(next_term)\n",
    "    return series\n",
    "fibo_series(10)\n",
    "    "
   ]
  },
  {
   "cell_type": "markdown",
   "id": "21ff6a21",
   "metadata": {},
   "source": [
    "# 17) Find the intersection of two lists"
   ]
  },
  {
   "cell_type": "code",
   "execution_count": 6,
   "id": "95e18df2",
   "metadata": {},
   "outputs": [
    {
     "data": {
      "text/plain": [
       "[3, 4, 5, 7]"
      ]
     },
     "execution_count": 6,
     "metadata": {},
     "output_type": "execute_result"
    }
   ],
   "source": [
    "def common (nums1,nums2):\n",
    "    common_list = []\n",
    "    for i in (nums1):\n",
    "        if i in nums2 :\n",
    "            common_list.append(i)\n",
    "    return common_list\n",
    "\n",
    "list1 = [2,3,4,5,6,0,7]\n",
    "list2 = [9,7,8,5,4,3,3]\n",
    "common (list1, list2)        \n",
    "        "
   ]
  },
  {
   "cell_type": "markdown",
   "id": "766c6e02",
   "metadata": {},
   "source": [
    "# Find the median of a list of numbers "
   ]
  },
  {
   "cell_type": "code",
   "execution_count": 7,
   "id": "3322ce58",
   "metadata": {},
   "outputs": [
    {
     "name": "stdout",
     "output_type": "stream",
     "text": [
      "[1, 3, 5, 7, 9, 14]\n",
      "6\n",
      "7\n"
     ]
    },
    {
     "data": {
      "text/plain": [
       "6.0"
      ]
     },
     "execution_count": 7,
     "metadata": {},
     "output_type": "execute_result"
    }
   ],
   "source": [
    "def median(num):\n",
    "    sorted_num = sorted(num)\n",
    "    print(sorted_num)\n",
    "    n = len(sorted_num)\n",
    "    print(n)\n",
    "    if n % 2 == 1:\n",
    "        median = sorted_num [n //2]\n",
    "    else:\n",
    "        med1 = sorted_num[n//2]\n",
    "        print(med1)\n",
    "        med2 = sorted_num[n//2 -1]\n",
    "        median = (med1 +med2)/2\n",
    "    return median\n",
    "median([1,9,3,7,5,14])"
   ]
  },
  {
   "cell_type": "markdown",
   "id": "9b3d0f70",
   "metadata": {},
   "source": [
    "# First non-repeating character in a string."
   ]
  },
  {
   "cell_type": "code",
   "execution_count": 11,
   "id": "6141778c",
   "metadata": {},
   "outputs": [
    {
     "ename": "TypeError",
     "evalue": "can only concatenate str (not \"int\") to str",
     "output_type": "error",
     "traceback": [
      "\u001b[1;31m---------------------------------------------------------------------------\u001b[0m",
      "\u001b[1;31mTypeError\u001b[0m                                 Traceback (most recent call last)",
      "Cell \u001b[1;32mIn[11], line 5\u001b[0m\n\u001b[0;32m      3\u001b[0m         \u001b[38;5;28;01mif\u001b[39;00m i \u001b[38;5;129;01mnot\u001b[39;00m \u001b[38;5;129;01min\u001b[39;00m \u001b[38;5;28mstr\u001b[39m[i\u001b[38;5;241m+\u001b[39m\u001b[38;5;241m1\u001b[39m:]:\n\u001b[0;32m      4\u001b[0m             \u001b[38;5;28;01mreturn\u001b[39;00m \u001b[38;5;28mstr\u001b[39m[i]\n\u001b[1;32m----> 5\u001b[0m non_repeat(\u001b[38;5;124m'\u001b[39m\u001b[38;5;124manaconda\u001b[39m\u001b[38;5;124m'\u001b[39m)\n",
      "Cell \u001b[1;32mIn[11], line 3\u001b[0m, in \u001b[0;36mnon_repeat\u001b[1;34m(str)\u001b[0m\n\u001b[0;32m      1\u001b[0m \u001b[38;5;28;01mdef\u001b[39;00m \u001b[38;5;21mnon_repeat\u001b[39m(\u001b[38;5;28mstr\u001b[39m):\n\u001b[0;32m      2\u001b[0m     \u001b[38;5;28;01mfor\u001b[39;00m i \u001b[38;5;129;01min\u001b[39;00m \u001b[38;5;28mstr\u001b[39m:\n\u001b[1;32m----> 3\u001b[0m         \u001b[38;5;28;01mif\u001b[39;00m i \u001b[38;5;129;01mnot\u001b[39;00m \u001b[38;5;129;01min\u001b[39;00m \u001b[38;5;28mstr\u001b[39m[i\u001b[38;5;241m+\u001b[39m\u001b[38;5;241m1\u001b[39m:]:\n\u001b[0;32m      4\u001b[0m             \u001b[38;5;28;01mreturn\u001b[39;00m \u001b[38;5;28mstr\u001b[39m[i]\n",
      "\u001b[1;31mTypeError\u001b[0m: can only concatenate str (not \"int\") to str"
     ]
    }
   ],
   "source": [
    "def non_repeat(str):\n",
    "    for i in str:\n",
    "        if i not in str[i+1:]:\n",
    "            return str[i]\n",
    "non_repeat('anaconda')  \n",
    "def non_repeat(str1):\n",
    "    for i in range(len(str1)):\n",
    "        if str1[i] not in str1[i+1:]:\n",
    "            return str1[i]"
   ]
  },
  {
   "cell_type": "code",
   "execution_count": null,
   "id": "ce12ffbf",
   "metadata": {},
   "outputs": [],
   "source": []
  },
  {
   "cell_type": "code",
   "execution_count": 2,
   "id": "f690c295",
   "metadata": {},
   "outputs": [
    {
     "name": "stdout",
     "output_type": "stream",
     "text": [
      "C init\n",
      "B init\n",
      "A init\n"
     ]
    }
   ],
   "source": [
    "# super()\n",
    "\n",
    "class A:\n",
    "    def __init__(self):\n",
    "        print('A init')\n",
    "        super().__init__()\n",
    "        \n",
    "class B:\n",
    "    def __init__(self):\n",
    "        print('B init')\n",
    "        super().__init__()\n",
    "        \n",
    "class C(B,A):\n",
    "    def __init__(self):\n",
    "        print('C init')\n",
    "        super().__init__()\n",
    "c = C() # here we are not calling __init__ method explicitely . ca as we create the instance of the class automatically __init__ was called \n",
    "#c.__init__()\n",
    "'''Here Q may rise why super() is used in class A? cz above A there is no class, it is imp cz as I inherit class C(B,A) \n",
    "so the B class is parent of A '''"
   ]
  },
  {
   "cell_type": "code",
   "execution_count": 3,
   "id": "4442b6dc",
   "metadata": {},
   "outputs": [
    {
     "name": "stdout",
     "output_type": "stream",
     "text": [
      "20\n",
      "20\n"
     ]
    }
   ],
   "source": [
    "#global\n",
    "x = 10\n",
    "def func():\n",
    "    global x\n",
    "    x = 20\n",
    "    print(x)\n",
    "func()\n",
    "print(x)"
   ]
  },
  {
   "cell_type": "code",
   "execution_count": 7,
   "id": "2a2dfb52",
   "metadata": {},
   "outputs": [
    {
     "name": "stdout",
     "output_type": "stream",
     "text": [
      "10\n"
     ]
    },
    {
     "ename": "NameError",
     "evalue": "name 'y' is not defined",
     "output_type": "error",
     "traceback": [
      "\u001b[1;31m---------------------------------------------------------------------------\u001b[0m",
      "\u001b[1;31mNameError\u001b[0m                                 Traceback (most recent call last)",
      "Cell \u001b[1;32mIn[7], line 5\u001b[0m\n\u001b[0;32m      3\u001b[0m     \u001b[38;5;28mprint\u001b[39m(y)\n\u001b[0;32m      4\u001b[0m func()\n\u001b[1;32m----> 5\u001b[0m \u001b[38;5;28mprint\u001b[39m(y)\n",
      "\u001b[1;31mNameError\u001b[0m: name 'y' is not defined"
     ]
    }
   ],
   "source": [
    "# local\n",
    "def func():\n",
    "    y = 10\n",
    "    print(y)\n",
    "func()\n",
    "print(y)"
   ]
  },
  {
   "cell_type": "code",
   "execution_count": null,
   "id": "c68cfd6f",
   "metadata": {},
   "outputs": [],
   "source": []
  },
  {
   "cell_type": "code",
   "execution_count": null,
   "id": "7bd6fbff",
   "metadata": {},
   "outputs": [],
   "source": []
  },
  {
   "cell_type": "code",
   "execution_count": null,
   "id": "ab0a3ea0",
   "metadata": {},
   "outputs": [],
   "source": []
  },
  {
   "cell_type": "markdown",
   "id": "d5abf44a",
   "metadata": {},
   "source": [
    "# To check if a given list is sorted in non-decreasing order."
   ]
  },
  {
   "cell_type": "code",
   "execution_count": 55,
   "id": "626f0745",
   "metadata": {},
   "outputs": [
    {
     "data": {
      "text/plain": [
       "False"
      ]
     },
     "execution_count": 55,
     "metadata": {},
     "output_type": "execute_result"
    }
   ],
   "source": [
    "def is_sorted(num):\n",
    "    for i in range(len(num)-1):\n",
    "        if num[i] > num[i+1]:\n",
    "            return False\n",
    "        else:\n",
    "            True\n",
    "is_sorted([2,3,4,3,2,3,4,5,6])       \n",
    "        \n",
    "            "
   ]
  },
  {
   "cell_type": "markdown",
   "id": "0590ecaf",
   "metadata": {},
   "source": [
    "# To know the size/ storage"
   ]
  },
  {
   "cell_type": "code",
   "execution_count": 9,
   "id": "578daf52",
   "metadata": {},
   "outputs": [
    {
     "name": "stdout",
     "output_type": "stream",
     "text": [
      "56\n"
     ]
    }
   ],
   "source": [
    "import sys\n",
    "l =[]\n",
    "print(sys.getsizeof(l))"
   ]
  },
  {
   "cell_type": "code",
   "execution_count": 8,
   "id": "64dccf7e",
   "metadata": {},
   "outputs": [
    {
     "name": "stdout",
     "output_type": "stream",
     "text": [
      "40\n"
     ]
    }
   ],
   "source": [
    "\n",
    "t=()\n",
    "print(sys.getsizeof(t))"
   ]
  },
  {
   "cell_type": "markdown",
   "id": "da0106c0",
   "metadata": {},
   "source": [
    "# Scenario-9: Calculate the total revenue generated from purchases made by users in a specific city."
   ]
  },
  {
   "cell_type": "code",
   "execution_count": null,
   "id": "b931df66",
   "metadata": {},
   "outputs": [],
   "source": [
    "total_rev = purchase.objects.filter(city = 'kolkata').aggregate(total_rev = models.Sum('amount'))['total_rev']"
   ]
  },
  {
   "cell_type": "code",
   "execution_count": null,
   "id": "f6a6f156",
   "metadata": {},
   "outputs": [],
   "source": [
    "total_revenue = purchases.objects.filter(city = 'New York').aggregate(total_revenue = models.Sum('amount'))['total_revenue']\n",
    "\n",
    "class Purchase(models.Model):\n",
    "    user = models.ForeignKey(User, on_delete=models.CASCADE)\n",
    "    city = models.CharField(max_length=100)\n",
    "    amount = models.DecimalField(max_digits=10, decimal_places=2)\n",
    "    timestamp = models.DateTimeField(auto_now_add=True)\n",
    "# SQL     \n",
    "SELECT SUM(amount) AS total_revenue FROM Purchase;\n"
   ]
  },
  {
   "cell_type": "code",
   "execution_count": null,
   "id": "744fdf0b",
   "metadata": {},
   "outputs": [],
   "source": []
  },
  {
   "cell_type": "code",
   "execution_count": null,
   "id": "456abcf6",
   "metadata": {},
   "outputs": [],
   "source": [
    "total_revenue = Purchase.objects.filter(user__profile__city=city).aggregate(total_revenue=models.Sum('amount'))['total_revenue']\n",
    "\n",
    "\n",
    "'''['total_revenue']: Extracts the value associated with the total_revenue key from the dictionary returned by the aggregate \n",
    "method.\n",
    "  user__profile__city=city: Uses double underscores (__) to follow relationships across models. This condition means that \n",
    "the query will only include purchases where the associated user's profile's city is \"New York\"'''\n",
    "\n",
    "class Profile(models.Model):\n",
    "    user = models.OneToOneField(User, on_delete=models.CASCADE)\n",
    "    city = models.CharField(max_length=100)\n",
    "\n",
    "class Purchase(models.Model):\n",
    "    user = models.ForeignKey(User, on_delete=models.CASCADE)\n",
    "    amount = models.DecimalField(max_digits=10, decimal_places=2)\n",
    "    timestamp = models.DateTimeField(auto_now_add=True)\n",
    "\n",
    "\n"
   ]
  },
  {
   "cell_type": "code",
   "execution_count": null,
   "id": "49f06a91",
   "metadata": {},
   "outputs": [],
   "source": [
    "users = purchase.objects.filter(is_active = True,users__date__gt = timezone.now() - timezone.timedelta(days = 30)).distinct()"
   ]
  },
  {
   "cell_type": "markdown",
   "id": "a1f2c785",
   "metadata": {},
   "source": [
    "# Scenario-8: Retrieve all active users who have made a purchase in the last month."
   ]
  },
  {
   "cell_type": "code",
   "execution_count": null,
   "id": "31cfa01a",
   "metadata": {},
   "outputs": [],
   "source": [
    "users = Users.objects.filter(is_active = True,purchase__date__gte = timezone.now() - timezone.timedelta(days = 30)).distinct()"
   ]
  },
  {
   "cell_type": "code",
   "execution_count": null,
   "id": "520f8298",
   "metadata": {},
   "outputs": [],
   "source": [
    "from django.utils import timezone\n",
    "from datetime import timedelta\n",
    "from django.contrib.auth.models import User\n",
    "\n",
    "one_month_ago = timezone.now() - timezone.timedelta(days=30)\n",
    "\n",
    "active_users = User.objects.filter(is_active=True, purchase__date__gte=one_month_ago).distinct()\n"
   ]
  },
  {
   "cell_type": "code",
   "execution_count": null,
   "id": "a7eb125e",
   "metadata": {},
   "outputs": [],
   "source": [
    "# Dj- models\n",
    "\n",
    "from django.db import models\n",
    "from django.contrib.auth.models import User\n",
    "from django.utils import timezone\n",
    "\n",
    "class Purchase(models.Model):\n",
    "    user = models.ForeignKey(User, on_delete=models.CASCADE)\n",
    "    date = models.DateTimeField()\n",
    "    amount = models.DecimalField(max_digits=10, decimal_places=2)\n",
    "    \n",
    "    \n",
    "# SQL \n",
    "SELECT DISTINCT auth_user.*\n",
    "FROM auth_user\n",
    "INNER JOIN purchase ON auth_user.id = purchase.user_id\n",
    "WHERE auth_user.is_active = TRUE\n",
    "  AND purchase.date >= NOW() - INTERVAL '30 days';\n",
    "\n",
    "INNER JOIN purchase ON auth_user.id = purchase.user_id: Joins the auth_user table with the purchase table on the condition that\n",
    "the id column in auth_user matches the user_id column in purchase. This ensures we only consider users who have made a purchase.\n"
   ]
  },
  {
   "cell_type": "markdown",
   "id": "d89cb439",
   "metadata": {},
   "source": [
    "# Retrieve all users who have not made any purchases yet."
   ]
  },
  {
   "cell_type": "code",
   "execution_count": null,
   "id": "f0192fe2",
   "metadata": {},
   "outputs": [],
   "source": [
    "user_not_purchased = Users.objects.filter(purchase__isnull = True)\n",
    "\n",
    "'''purchase__isnull=True: This checks for users who do not have any related Purchase records. It will correctly return all users\n",
    "who have not made any purchases.\n",
    "When I mentioned \"no related Purchase objects,\" I meant that there are no entries in the Purchase table associated with the \n",
    "particular User object. This relationship is established through a foreign key field in the Purchase model that references the \n",
    "User model.'''\n",
    "\n",
    "from django.db import models\n",
    "from django.contrib.auth.models import User\n",
    "\n",
    "class Purchase(models.Model):\n",
    "    user = models.ForeignKey(User, on_delete=models.CASCADE)\n",
    "    date = models.DateTimeField()\n",
    "    amount = models.DecimalField(max_digits=10, decimal_places=2)\n",
    "\n",
    "    # SQL\n",
    "    \n",
    "    SELECT auth_user.*\n",
    "FROM auth_user\n",
    "LEFT JOIN purchase ON auth_user.id = purchase.user_id\n",
    "WHERE purchase.user_id IS NULL;\n"
   ]
  },
  {
   "cell_type": "markdown",
   "id": "a9ebb7dc",
   "metadata": {},
   "source": [
    "# Scenario-6: Retrieve all products sorted by their price in descending order."
   ]
  },
  {
   "cell_type": "code",
   "execution_count": null,
   "id": "89f7d513",
   "metadata": {},
   "outputs": [],
   "source": [
    "products = products.objects.filter(ordered_by = '-price')"
   ]
  },
  {
   "cell_type": "code",
   "execution_count": null,
   "id": "a3a47340",
   "metadata": {},
   "outputs": [],
   "source": [
    "products_desc = Product.objects.order_by('-price')\n",
    "\n",
    "    \n",
    "    from django.db import models\n",
    "\n",
    "class Product(models.Model):\n",
    "    name = models.CharField(max_length=100)\n",
    "    price = models.DecimalField(max_digits=10, decimal_places=2)\n",
    "    \n",
    "    # SQL\n",
    "    SELECT * FROM myapp_product ORDER BY price DESC;\n",
    "\n"
   ]
  },
  {
   "cell_type": "markdown",
   "id": "b94a5f92",
   "metadata": {},
   "source": [
    "# Scenario-5: Calculate the total revenue generated from all purchases."
   ]
  },
  {
   "cell_type": "code",
   "execution_count": null,
   "id": "a3c7b3f8",
   "metadata": {},
   "outputs": [],
   "source": [
    "total_rev = purchase.objects.aggregate(total_rev = models.Sum('amount'))['total_rev']"
   ]
  },
  {
   "cell_type": "code",
   "execution_count": 1,
   "id": "f1cd7d28",
   "metadata": {},
   "outputs": [
    {
     "ename": "SyntaxError",
     "evalue": "invalid syntax (3552856846.py, line 4)",
     "output_type": "error",
     "traceback": [
      "\u001b[1;36m  Cell \u001b[1;32mIn[1], line 4\u001b[1;36m\u001b[0m\n\u001b[1;33m    SELECT SUM(amount) AS total_revenue FROM myapp_purchase;\u001b[0m\n\u001b[1;37m           ^\u001b[0m\n\u001b[1;31mSyntaxError\u001b[0m\u001b[1;31m:\u001b[0m invalid syntax\n"
     ]
    }
   ],
   "source": [
    "\n",
    "total_revenue = Purchase.objects.aggregate(total_revenue=models.Sum('amount'))['total_revenue']\n",
    "\n",
    "# SQL\n",
    "SELECT SUM(amount) AS total_revenue FROM myapp_purchase;\n"
   ]
  },
  {
   "cell_type": "markdown",
   "id": "029385cd",
   "metadata": {},
   "source": [
    "aggregate() is a terminal clause for a QuerySet that, ***when invoked, returns a dictionary of name-value pairs**. The name is an identifier for the aggregate value; the value is the computed aggregate. The name is automatically generated from the name of the field and the aggregate function. If you want to manually specify a name for the aggregate value, you can do so by providing that name when you specify the aggregate clause:"
   ]
  },
  {
   "cell_type": "markdown",
   "id": "86dc220c",
   "metadata": {},
   "source": [
    "# Scenario-4: Retrieve all users with a specific role (e.g., \"admin\")."
   ]
  },
  {
   "cell_type": "code",
   "execution_count": null,
   "id": "c3fa8471",
   "metadata": {},
   "outputs": [],
   "source": [
    "all_user = Users.objects.filter(role = 'admin')"
   ]
  },
  {
   "cell_type": "markdown",
   "id": "5b8825df",
   "metadata": {},
   "source": [
    "# Scenario-3: Retrieve the details of the latest purchase made by a specific user."
   ]
  },
  {
   "cell_type": "code",
   "execution_count": null,
   "id": "997be04d",
   "metadata": {},
   "outputs": [],
   "source": [
    "\n",
    "latest_purchase = purchase.objects.filter(user_name = 'ram').latest('date')\n",
    "\n",
    "or\n",
    "User_id = 1\n",
    "latest_purchase = Purchase.objects.filter(user_id = User_id ) .latest('timestamp')"
   ]
  },
  {
   "cell_type": "code",
   "execution_count": null,
   "id": "650f8f01",
   "metadata": {},
   "outputs": [],
   "source": [
    "# find emp_name who draws maximum salary ( 1st wright the inner Q, then outer Q)\n",
    " select emp_name from emp \n",
    "    where salary = select max(salary) from emp;"
   ]
  },
  {
   "cell_type": "code",
   "execution_count": null,
   "id": "993407e0",
   "metadata": {},
   "outputs": [],
   "source": [
    "# 2nd highest salary\n",
    " select max(salary) from emp where salary <>  select max(salary) from emp;\n",
    "    \n",
    "# emp_name who draws 2nd highest salary  (sub query)\n",
    "select emp_name from emp where salary =\n",
    "(select max(salary) from emp where salary <> select max(salary) from emp);\n",
    "\n",
    "# useing limit\n",
    "\n",
    "**select salary from emp order_by salary Desc limit (n-1),1;**  n= 1\n",
    "\n",
    "diff btwn \"= & in \"\n",
    "= when compare with one value\n",
    "in compare with multiple value\n",
    " 2 = 2 True\n",
    " 2 = [1,2,3,4,5]  (it means if 2 is in the list or not)"
   ]
  },
  {
   "cell_type": "code",
   "execution_count": null,
   "id": "7a914f52",
   "metadata": {},
   "outputs": [],
   "source": [
    "-- Create Employees table\n",
    "CREATE TABLE employees (\n",
    "    employee_id INT PRIMARY KEY,\n",
    "    first_name VARCHAR(50),\n",
    "    last_name VARCHAR(50),\n",
    "    department_id INT\n",
    ");\n",
    "\n",
    "-- Create Departments table with Foreign Key\n",
    "CREATE TABLE departments (\n",
    "    department_id INT PRIMARY KEY,\n",
    "    department_name VARCHAR(50),\n",
    "    manager_id INT,\n",
    "    CONSTRAINT fk_department_employee FOREIGN KEY (manager_id) REFERENCES employees(employee_id)\n",
    ");\n",
    "\n",
    "-- Insert sample data into Employees table\n",
    "INSERT INTO employees (employee_id, first_name, last_name, department_id) VALUES\n",
    "(1, 'John', 'Doe', 101),\n",
    "(2, 'Jane', 'Smith', 102),\n",
    "(3, 'Alice', 'Johnson', 101),\n",
    "(4, 'Bob', 'Williams', 103),\n",
    "(5, 'Emily', 'Brown', 102);\n",
    "\n",
    "-- Insert sample data into Departments table\n",
    "INSERT INTO departments (department_id, department_name, manager_id) VALUES\n",
    "(101, 'Engineering', 1),\n",
    "(102, 'Marketing', 5),\n",
    "(103, 'Finance', 4);\n",
    "\n",
    "-- Perform INNER JOIN\n",
    "SELECT employees.employee_id, employees.first_name, employees.last_name, departments.department_name\n",
    "FROM employees\n",
    "INNER JOIN departments ON employees.department_id = departments.department_id;\n",
    "\n",
    "-- Perform LEFT JOIN\n",
    "SELECT employees.employee_id, employees.first_name, employees.last_name, departments.department_name\n",
    "FROM employees\n",
    "LEFT JOIN departments ON employees.department_id = departments.department_id;\n",
    "\n",
    "-- Perform RIGHT JOIN\n",
    "SELECT employees.employee_id, employees.first_name, employees.last_name, departments.department_name\n",
    "FROM employees\n",
    "RIGHT JOIN departments ON employees.department_id = departments.department_id;\n",
    "\n",
    "-- Perform FULL OUTER JOIN (supported by some databases)\n",
    "SELECT employees.employee_id, employees.first_name, employees.last_name, departments.department_name\n",
    "FROM employees\n",
    "FULL OUTER JOIN departments ON employees.department_id = departments.department_id;\n"
   ]
  },
  {
   "cell_type": "code",
   "execution_count": null,
   "id": "42bbf74a",
   "metadata": {},
   "outputs": [],
   "source": [
    "-- DISTINCT\n",
    "SELECT DISTINCT department_id FROM employees;\n",
    "\n",
    "-- LIKE Operator\n",
    "SELECT * FROM employees WHERE first_name LIKE 'J%';\n",
    "\n",
    "-- BETWEEN Operator\n",
    "SELECT * FROM employees WHERE salary BETWEEN 50000 AND 80000;\n",
    "\n",
    "-- IN Operator\n",
    "SELECT * FROM employees WHERE department_id IN (1, 2, 3);\n",
    "\n",
    "-- NOT Operator\n",
    "SELECT * FROM employees WHERE department_id NOT IN (4, 5);\n",
    "\n",
    "-- COUNT Function\n",
    "SELECT COUNT(*) FROM employees;\n",
    "\n",
    "-- MAX and MIN Functions\n",
    "SELECT MAX(salary) AS max_salary, MIN(salary) AS min_salary FROM employees;\n",
    "\n",
    "-- AVG Function\n",
    "SELECT AVG(salary) AS avg_salary FROM employees;\n",
    "\n",
    "-- SUM Function\n",
    "SELECT SUM(salary) AS total_salary FROM employees;\n",
    "\n",
    "-- GROUP BY with HAVING\n",
    "SELECT department_id, COUNT(*) as employee_count\n",
    "FROM employees\n",
    "GROUP BY department_id\n",
    "HAVING COUNT(*) > 10;"
   ]
  },
  {
   "cell_type": "code",
   "execution_count": null,
   "id": "7db8ff65",
   "metadata": {},
   "outputs": [],
   "source": [
    "import pandas as pd\n",
    "\n",
    "# Sample data\n",
    "data = {\n",
    "    'Name': ['Alice', 'Bob', 'Charlie', 'David', 'Eve'],\n",
    "    'Age': [24, 30, 22, 35, 28],\n",
    "    'City': ['New York', 'Los Angeles', 'Chicago', 'Houston', 'Phoenix'],\n",
    "    'Salary': [70000, 80000, 65000, 85000, 78000]\n",
    "}\n",
    "\n",
    "# Create DataFrame\n",
    "df = pd.DataFrame(data)\n",
    "\n",
    "# Display the DataFrame\n",
    "print(df)\n"
   ]
  },
  {
   "cell_type": "code",
   "execution_count": null,
   "id": "64b84e2c",
   "metadata": {},
   "outputs": [],
   "source": []
  },
  {
   "cell_type": "code",
   "execution_count": null,
   "id": "ed6283c1",
   "metadata": {},
   "outputs": [],
   "source": []
  },
  {
   "cell_type": "code",
   "execution_count": null,
   "id": "43fc187a",
   "metadata": {},
   "outputs": [],
   "source": []
  },
  {
   "cell_type": "code",
   "execution_count": null,
   "id": "2bafcbbd",
   "metadata": {},
   "outputs": [],
   "source": []
  },
  {
   "cell_type": "code",
   "execution_count": null,
   "id": "0143f0e6",
   "metadata": {},
   "outputs": [],
   "source": []
  },
  {
   "cell_type": "code",
   "execution_count": null,
   "id": "52fe59cc",
   "metadata": {},
   "outputs": [],
   "source": []
  },
  {
   "cell_type": "code",
   "execution_count": null,
   "id": "ec501ac0",
   "metadata": {},
   "outputs": [],
   "source": []
  },
  {
   "cell_type": "code",
   "execution_count": null,
   "id": "1188d9c5",
   "metadata": {},
   "outputs": [],
   "source": []
  },
  {
   "cell_type": "code",
   "execution_count": null,
   "id": "a09d2370",
   "metadata": {},
   "outputs": [],
   "source": []
  },
  {
   "cell_type": "code",
   "execution_count": null,
   "id": "c531ef03",
   "metadata": {},
   "outputs": [],
   "source": []
  },
  {
   "cell_type": "code",
   "execution_count": null,
   "id": "7e68690c",
   "metadata": {},
   "outputs": [],
   "source": []
  },
  {
   "cell_type": "code",
   "execution_count": null,
   "id": "ec5df2ea",
   "metadata": {},
   "outputs": [],
   "source": []
  },
  {
   "cell_type": "code",
   "execution_count": null,
   "id": "21f478ac",
   "metadata": {},
   "outputs": [],
   "source": []
  },
  {
   "cell_type": "code",
   "execution_count": null,
   "id": "1d7e8ed1",
   "metadata": {},
   "outputs": [],
   "source": []
  },
  {
   "cell_type": "code",
   "execution_count": null,
   "id": "47a813dd",
   "metadata": {},
   "outputs": [],
   "source": []
  },
  {
   "cell_type": "code",
   "execution_count": null,
   "id": "c6b6b174",
   "metadata": {},
   "outputs": [],
   "source": []
  },
  {
   "cell_type": "code",
   "execution_count": null,
   "id": "3d03172a",
   "metadata": {},
   "outputs": [],
   "source": []
  },
  {
   "cell_type": "code",
   "execution_count": null,
   "id": "ff6e189f",
   "metadata": {},
   "outputs": [],
   "source": []
  },
  {
   "cell_type": "code",
   "execution_count": null,
   "id": "4c865b6d",
   "metadata": {},
   "outputs": [],
   "source": []
  },
  {
   "cell_type": "code",
   "execution_count": null,
   "id": "ff8c8fa3",
   "metadata": {},
   "outputs": [],
   "source": []
  },
  {
   "cell_type": "code",
   "execution_count": null,
   "id": "650ab000",
   "metadata": {},
   "outputs": [],
   "source": []
  },
  {
   "cell_type": "code",
   "execution_count": null,
   "id": "c540fb79",
   "metadata": {},
   "outputs": [],
   "source": []
  },
  {
   "cell_type": "code",
   "execution_count": null,
   "id": "fcd43f23",
   "metadata": {},
   "outputs": [],
   "source": []
  },
  {
   "cell_type": "code",
   "execution_count": null,
   "id": "cd429be3",
   "metadata": {},
   "outputs": [],
   "source": []
  },
  {
   "cell_type": "code",
   "execution_count": null,
   "id": "b059e3e2",
   "metadata": {},
   "outputs": [],
   "source": []
  },
  {
   "cell_type": "code",
   "execution_count": null,
   "id": "f51bb819",
   "metadata": {},
   "outputs": [],
   "source": []
  },
  {
   "cell_type": "code",
   "execution_count": null,
   "id": "645da126",
   "metadata": {},
   "outputs": [],
   "source": []
  },
  {
   "cell_type": "code",
   "execution_count": null,
   "id": "dc0f0d45",
   "metadata": {},
   "outputs": [],
   "source": []
  },
  {
   "cell_type": "code",
   "execution_count": null,
   "id": "cfbc343a",
   "metadata": {},
   "outputs": [],
   "source": []
  },
  {
   "cell_type": "code",
   "execution_count": null,
   "id": "c2d6dc18",
   "metadata": {},
   "outputs": [],
   "source": []
  },
  {
   "cell_type": "code",
   "execution_count": null,
   "id": "fd680224",
   "metadata": {},
   "outputs": [],
   "source": []
  },
  {
   "cell_type": "code",
   "execution_count": null,
   "id": "cedb47cc",
   "metadata": {},
   "outputs": [],
   "source": []
  },
  {
   "cell_type": "code",
   "execution_count": null,
   "id": "34d1af61",
   "metadata": {},
   "outputs": [],
   "source": []
  },
  {
   "cell_type": "code",
   "execution_count": null,
   "id": "7494ce3d",
   "metadata": {},
   "outputs": [],
   "source": []
  },
  {
   "cell_type": "code",
   "execution_count": null,
   "id": "ac25bbed",
   "metadata": {},
   "outputs": [],
   "source": []
  },
  {
   "cell_type": "code",
   "execution_count": null,
   "id": "55b60d19",
   "metadata": {},
   "outputs": [],
   "source": []
  },
  {
   "cell_type": "code",
   "execution_count": null,
   "id": "55e296e4",
   "metadata": {},
   "outputs": [],
   "source": []
  },
  {
   "cell_type": "code",
   "execution_count": null,
   "id": "5a423fb5",
   "metadata": {},
   "outputs": [],
   "source": []
  },
  {
   "cell_type": "code",
   "execution_count": null,
   "id": "06bb2be1",
   "metadata": {},
   "outputs": [],
   "source": []
  },
  {
   "cell_type": "code",
   "execution_count": null,
   "id": "270612d6",
   "metadata": {},
   "outputs": [],
   "source": []
  },
  {
   "cell_type": "code",
   "execution_count": null,
   "id": "b8294c67",
   "metadata": {},
   "outputs": [],
   "source": []
  },
  {
   "cell_type": "code",
   "execution_count": null,
   "id": "e535628d",
   "metadata": {},
   "outputs": [],
   "source": []
  },
  {
   "cell_type": "code",
   "execution_count": null,
   "id": "45efaeb2",
   "metadata": {},
   "outputs": [],
   "source": []
  },
  {
   "cell_type": "code",
   "execution_count": null,
   "id": "9c423988",
   "metadata": {},
   "outputs": [],
   "source": []
  },
  {
   "cell_type": "code",
   "execution_count": null,
   "id": "147f8a8d",
   "metadata": {},
   "outputs": [],
   "source": []
  },
  {
   "cell_type": "code",
   "execution_count": null,
   "id": "60fc3953",
   "metadata": {},
   "outputs": [],
   "source": []
  },
  {
   "cell_type": "code",
   "execution_count": null,
   "id": "fe65573c",
   "metadata": {},
   "outputs": [],
   "source": []
  },
  {
   "cell_type": "code",
   "execution_count": 25,
   "id": "b15335c6",
   "metadata": {},
   "outputs": [
    {
     "name": "stdout",
     "output_type": "stream",
     "text": [
      "Empty DataFrame\n",
      "Columns: [Title, Price, Discount]\n",
      "Index: []\n"
     ]
    }
   ],
   "source": [
    "import pandas as pd\n",
    "import requests\n",
    "from bs4 import BeautifulSoup\n",
    "\n",
    "# Send a GET request to the Amazon Gold Box Deals page\n",
    "url = \"https://www.amazon.com/gp/goldbox?ref_=nav_cs_gb&deals-widget=%257B%2522version%2522%253A1%252C%2522viewIndex%2522%253A0%252C%2522presetId%2522%253A%2522F954F5F1FE84B4B875042F730CEE0354%2522%252C%2522departments%2522%253A%255B%2522172282%2522%255D%252C%2522sorting%2522%253A%2522FEATURED%2522%257D\"\n",
    "response = requests.get(url)\n",
    "\n",
    "# Parse the HTML content\n",
    "soup = BeautifulSoup(response.content, \"html.parser\")\n",
    "\n",
    "# Find all deal items\n",
    "deal_items = soup.find_all(\"div\", class_=\"a-section a-spacing-medium\")\n",
    "\n",
    "# Create lists to store item details\n",
    "titles = []\n",
    "prices = []\n",
    "discounts = []\n",
    "\n",
    "# Loop through the deal items and extract title, price, and discount\n",
    "for item in deal_items:\n",
    "    title = item.find(\"span\", class_=\"a-text-bold\").get_text().strip()\n",
    "    price = item.find(\"span\", class_=\"a-offscreen\").get_text().strip()\n",
    "    discount_tag = item.find(\"span\", class_=\"a-badge-supplementary-text\")\n",
    "    discount = discount_tag.get_text().strip() if discount_tag else \"0%\"\n",
    "    \n",
    "    # Convert discount percentage to numeric value\n",
    "    discount_value = int(discount.strip('%').replace('+', '').replace('-', ''))\n",
    "\n",
    "    # Check if discount is 20% or more\n",
    "    if discount_value >= 20:\n",
    "        titles.append(title)\n",
    "        prices.append(price)\n",
    "        discounts.append(discount)\n",
    "\n",
    "# Create a DataFrame from the extracted data\n",
    "data = {\n",
    "    'Title': titles,\n",
    "    'Price': prices,\n",
    "    'Discount': discounts\n",
    "}\n",
    "df = pd.DataFrame(data)\n",
    "\n",
    "# Display the DataFrame\n",
    "print(df)\n"
   ]
  },
  {
   "cell_type": "code",
   "execution_count": null,
   "id": "5eb487c5",
   "metadata": {},
   "outputs": [],
   "source": []
  },
  {
   "cell_type": "code",
   "execution_count": null,
   "id": "b47c40eb",
   "metadata": {},
   "outputs": [],
   "source": []
  },
  {
   "cell_type": "code",
   "execution_count": null,
   "id": "0a0b8ed3",
   "metadata": {},
   "outputs": [],
   "source": []
  },
  {
   "cell_type": "code",
   "execution_count": null,
   "id": "3edc8f2c",
   "metadata": {},
   "outputs": [],
   "source": []
  },
  {
   "cell_type": "code",
   "execution_count": null,
   "id": "21ac0cef",
   "metadata": {},
   "outputs": [],
   "source": []
  },
  {
   "cell_type": "code",
   "execution_count": null,
   "id": "eba85812",
   "metadata": {},
   "outputs": [],
   "source": []
  },
  {
   "cell_type": "code",
   "execution_count": null,
   "id": "ff48f891",
   "metadata": {},
   "outputs": [],
   "source": []
  },
  {
   "cell_type": "code",
   "execution_count": null,
   "id": "5de8b90a",
   "metadata": {},
   "outputs": [],
   "source": []
  },
  {
   "cell_type": "code",
   "execution_count": null,
   "id": "1db0d034",
   "metadata": {},
   "outputs": [],
   "source": []
  },
  {
   "cell_type": "code",
   "execution_count": null,
   "id": "0fdc2eab",
   "metadata": {},
   "outputs": [],
   "source": []
  },
  {
   "cell_type": "code",
   "execution_count": null,
   "id": "fe103cb3",
   "metadata": {},
   "outputs": [],
   "source": []
  },
  {
   "cell_type": "code",
   "execution_count": null,
   "id": "1f3fd1cd",
   "metadata": {},
   "outputs": [],
   "source": []
  },
  {
   "cell_type": "code",
   "execution_count": null,
   "id": "7cb55b10",
   "metadata": {},
   "outputs": [],
   "source": []
  },
  {
   "cell_type": "code",
   "execution_count": null,
   "id": "8ddb1f05",
   "metadata": {},
   "outputs": [],
   "source": []
  },
  {
   "cell_type": "code",
   "execution_count": null,
   "id": "1048586a",
   "metadata": {},
   "outputs": [],
   "source": []
  },
  {
   "cell_type": "code",
   "execution_count": null,
   "id": "210d1539",
   "metadata": {},
   "outputs": [],
   "source": []
  },
  {
   "cell_type": "code",
   "execution_count": null,
   "id": "c9452205",
   "metadata": {},
   "outputs": [],
   "source": []
  },
  {
   "cell_type": "code",
   "execution_count": null,
   "id": "4918eb5f",
   "metadata": {},
   "outputs": [],
   "source": []
  },
  {
   "cell_type": "code",
   "execution_count": null,
   "id": "c6cf1e6c",
   "metadata": {},
   "outputs": [],
   "source": []
  },
  {
   "cell_type": "code",
   "execution_count": null,
   "id": "7ed77015",
   "metadata": {},
   "outputs": [],
   "source": []
  },
  {
   "cell_type": "code",
   "execution_count": null,
   "id": "21191459",
   "metadata": {},
   "outputs": [],
   "source": []
  },
  {
   "cell_type": "code",
   "execution_count": null,
   "id": "be796359",
   "metadata": {},
   "outputs": [],
   "source": []
  },
  {
   "cell_type": "code",
   "execution_count": null,
   "id": "58fc62ca",
   "metadata": {},
   "outputs": [],
   "source": []
  },
  {
   "cell_type": "code",
   "execution_count": null,
   "id": "1636e973",
   "metadata": {},
   "outputs": [],
   "source": []
  },
  {
   "cell_type": "code",
   "execution_count": null,
   "id": "fc078274",
   "metadata": {},
   "outputs": [],
   "source": []
  },
  {
   "cell_type": "code",
   "execution_count": null,
   "id": "c4aec15b",
   "metadata": {},
   "outputs": [],
   "source": []
  },
  {
   "cell_type": "code",
   "execution_count": null,
   "id": "1089825a",
   "metadata": {},
   "outputs": [],
   "source": []
  },
  {
   "cell_type": "code",
   "execution_count": null,
   "id": "20ad56f3",
   "metadata": {},
   "outputs": [],
   "source": []
  },
  {
   "cell_type": "code",
   "execution_count": null,
   "id": "46d399c9",
   "metadata": {},
   "outputs": [],
   "source": []
  },
  {
   "cell_type": "code",
   "execution_count": null,
   "id": "dd328c70",
   "metadata": {},
   "outputs": [],
   "source": []
  },
  {
   "cell_type": "code",
   "execution_count": null,
   "id": "c4453a1b",
   "metadata": {},
   "outputs": [],
   "source": []
  },
  {
   "cell_type": "code",
   "execution_count": null,
   "id": "5c15594d",
   "metadata": {},
   "outputs": [],
   "source": []
  },
  {
   "cell_type": "code",
   "execution_count": null,
   "id": "88e544c0",
   "metadata": {},
   "outputs": [],
   "source": []
  },
  {
   "cell_type": "code",
   "execution_count": null,
   "id": "a756d5da",
   "metadata": {},
   "outputs": [],
   "source": []
  },
  {
   "cell_type": "code",
   "execution_count": null,
   "id": "6f64c016",
   "metadata": {},
   "outputs": [],
   "source": []
  },
  {
   "cell_type": "code",
   "execution_count": null,
   "id": "9246508b",
   "metadata": {},
   "outputs": [],
   "source": []
  },
  {
   "cell_type": "code",
   "execution_count": null,
   "id": "e8f85190",
   "metadata": {},
   "outputs": [],
   "source": []
  },
  {
   "cell_type": "code",
   "execution_count": null,
   "id": "e3469189",
   "metadata": {},
   "outputs": [],
   "source": []
  },
  {
   "cell_type": "code",
   "execution_count": null,
   "id": "b8f8b02d",
   "metadata": {},
   "outputs": [],
   "source": []
  },
  {
   "cell_type": "code",
   "execution_count": null,
   "id": "12215766",
   "metadata": {},
   "outputs": [],
   "source": []
  },
  {
   "cell_type": "code",
   "execution_count": null,
   "id": "0ef3e2ac",
   "metadata": {},
   "outputs": [],
   "source": []
  },
  {
   "cell_type": "code",
   "execution_count": null,
   "id": "a604b114",
   "metadata": {},
   "outputs": [],
   "source": []
  },
  {
   "cell_type": "code",
   "execution_count": null,
   "id": "dc552133",
   "metadata": {},
   "outputs": [],
   "source": []
  },
  {
   "cell_type": "code",
   "execution_count": null,
   "id": "45ad223e",
   "metadata": {},
   "outputs": [],
   "source": []
  },
  {
   "cell_type": "code",
   "execution_count": null,
   "id": "101c14af",
   "metadata": {},
   "outputs": [],
   "source": []
  },
  {
   "cell_type": "code",
   "execution_count": null,
   "id": "b1da5333",
   "metadata": {},
   "outputs": [],
   "source": []
  },
  {
   "cell_type": "code",
   "execution_count": null,
   "id": "9f6231b5",
   "metadata": {},
   "outputs": [],
   "source": []
  },
  {
   "cell_type": "code",
   "execution_count": null,
   "id": "1f1ef0c0",
   "metadata": {},
   "outputs": [],
   "source": []
  },
  {
   "cell_type": "code",
   "execution_count": null,
   "id": "87d2833d",
   "metadata": {},
   "outputs": [],
   "source": []
  },
  {
   "cell_type": "code",
   "execution_count": null,
   "id": "5c76f4cf",
   "metadata": {},
   "outputs": [],
   "source": []
  },
  {
   "cell_type": "code",
   "execution_count": null,
   "id": "54e290c3",
   "metadata": {},
   "outputs": [],
   "source": []
  },
  {
   "cell_type": "code",
   "execution_count": null,
   "id": "af7ec0a2",
   "metadata": {},
   "outputs": [],
   "source": []
  },
  {
   "cell_type": "code",
   "execution_count": null,
   "id": "70b3724c",
   "metadata": {},
   "outputs": [],
   "source": []
  },
  {
   "cell_type": "code",
   "execution_count": null,
   "id": "0be8804a",
   "metadata": {},
   "outputs": [],
   "source": []
  },
  {
   "cell_type": "code",
   "execution_count": null,
   "id": "6f1ad975",
   "metadata": {},
   "outputs": [],
   "source": []
  },
  {
   "cell_type": "code",
   "execution_count": null,
   "id": "decf1868",
   "metadata": {},
   "outputs": [],
   "source": []
  },
  {
   "cell_type": "code",
   "execution_count": null,
   "id": "a8d8fa25",
   "metadata": {},
   "outputs": [],
   "source": []
  },
  {
   "cell_type": "code",
   "execution_count": null,
   "id": "2c128dc7",
   "metadata": {},
   "outputs": [],
   "source": []
  },
  {
   "cell_type": "code",
   "execution_count": null,
   "id": "c39cfaf1",
   "metadata": {},
   "outputs": [],
   "source": []
  },
  {
   "cell_type": "code",
   "execution_count": null,
   "id": "aeeb23fb",
   "metadata": {},
   "outputs": [],
   "source": []
  }
 ],
 "metadata": {
  "kernelspec": {
   "display_name": "Python 3 (ipykernel)",
   "language": "python",
   "name": "python3"
  },
  "language_info": {
   "codemirror_mode": {
    "name": "ipython",
    "version": 3
   },
   "file_extension": ".py",
   "mimetype": "text/x-python",
   "name": "python",
   "nbconvert_exporter": "python",
   "pygments_lexer": "ipython3",
   "version": "3.11.5"
  }
 },
 "nbformat": 4,
 "nbformat_minor": 5
}
